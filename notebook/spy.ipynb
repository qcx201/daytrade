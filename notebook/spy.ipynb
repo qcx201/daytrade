{
 "cells": [
  {
   "cell_type": "code",
   "execution_count": null,
   "id": "9e86abe2",
   "metadata": {},
   "outputs": [],
   "source": [
    "import pandas\n",
    "import os\n",
    "import sys"
   ]
  },
  {
   "cell_type": "code",
   "execution_count": 2,
   "id": "4a986ec2",
   "metadata": {},
   "outputs": [],
   "source": [
    "url = 'https://www.ssga.com/us/en/intermediary/library-content/products/fund-data/etfs/us/holdings-daily-us-en-spy.xlsx'\n",
    "df = pandas.read_excel(url, header=4)\n",
    "\n",
    "df.columns = df.columns.str.lower().str.replace(' ', '')\n",
    "\n",
    "cond = df.isna().all(axis=1)\n",
    "idxmax = cond.idxmax()\n",
    "\n",
    "cond = df.index < idxmax\n",
    "df = df[cond]\n",
    "\n",
    "df = df.sort_values('weight', ascending=False)\n",
    "df = df.drop_duplicates('ticker')\n",
    "df = df.reset_index()"
   ]
  },
  {
   "cell_type": "code",
   "execution_count": 11,
   "id": "45006457",
   "metadata": {},
   "outputs": [
    {
     "name": "stdout",
     "output_type": "stream",
     "text": [
      "Saved: /home/qcx201/Projects/daytrade/data/spy/spy-1.csv\n",
      "Saved: /home/qcx201/Projects/daytrade/data/spy/spy-2.csv\n",
      "Saved: /home/qcx201/Projects/daytrade/data/spy/spy-3.csv\n",
      "Saved: /home/qcx201/Projects/daytrade/data/spy/spy-4.csv\n",
      "Saved: /home/qcx201/Projects/daytrade/data/spy/spy-5.csv\n",
      "Saved: /home/qcx201/Projects/daytrade/data/spy/spy-6.csv\n",
      "Saved: /home/qcx201/Projects/daytrade/data/spy/spy-7.csv\n",
      "Saved: /home/qcx201/Projects/daytrade/data/spy/spy-8.csv\n",
      "Saved: /home/qcx201/Projects/daytrade/data/spy/spy-9.csv\n",
      "Saved: /home/qcx201/Projects/daytrade/data/spy/spy-10.csv\n"
     ]
    }
   ],
   "source": [
    "nrows = len(df)\n",
    "chunk_size = 50\n",
    "\n",
    "# last index is included\n",
    "indices = list(range(0, nrows, chunk_size))\n",
    "indices[-1] = nrows\n",
    "\n",
    "# save chunks\n",
    "n = 0\n",
    "for start, end in zip(indices[:-1], indices[1:]):\n",
    "    \n",
    "    chunk = df.iloc[start:end]\n",
    "\n",
    "    n+=1\n",
    "    dst = os.path.abspath(f'../data/spy/spy-{n}.csv')\n",
    "    chunk.to_csv(dst)\n",
    "    print('Saved:', dst)"
   ]
  }
 ],
 "metadata": {
  "kernelspec": {
   "display_name": "base",
   "language": "python",
   "name": "python3"
  },
  "language_info": {
   "codemirror_mode": {
    "name": "ipython",
    "version": 3
   },
   "file_extension": ".py",
   "mimetype": "text/x-python",
   "name": "python",
   "nbconvert_exporter": "python",
   "pygments_lexer": "ipython3",
   "version": "3.12.7"
  }
 },
 "nbformat": 4,
 "nbformat_minor": 5
}
